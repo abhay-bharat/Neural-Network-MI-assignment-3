{
 "cells": [
  {
   "cell_type": "code",
   "execution_count": 632,
   "metadata": {},
   "outputs": [],
   "source": [
    "import pandas as pd\n",
    "import numpy as np"
   ]
  },
  {
   "cell_type": "code",
   "execution_count": 633,
   "metadata": {},
   "outputs": [],
   "source": [
    "df = pd.read_csv('LBW_Dataset.csv')"
   ]
  },
  {
   "cell_type": "code",
   "execution_count": 634,
   "metadata": {},
   "outputs": [
    {
     "data": {
      "text/plain": [
       "(96, 10)"
      ]
     },
     "execution_count": 634,
     "metadata": {},
     "output_type": "execute_result"
    }
   ],
   "source": [
    "df.shape"
   ]
  },
  {
   "cell_type": "code",
   "execution_count": 635,
   "metadata": {},
   "outputs": [],
   "source": [
    "stat_details = df.describe()"
   ]
  },
  {
   "cell_type": "code",
   "execution_count": 636,
   "metadata": {},
   "outputs": [
    {
     "data": {
      "text/html": [
       "<div>\n",
       "<style scoped>\n",
       "    .dataframe tbody tr th:only-of-type {\n",
       "        vertical-align: middle;\n",
       "    }\n",
       "\n",
       "    .dataframe tbody tr th {\n",
       "        vertical-align: top;\n",
       "    }\n",
       "\n",
       "    .dataframe thead th {\n",
       "        text-align: right;\n",
       "    }\n",
       "</style>\n",
       "<table border=\"1\" class=\"dataframe\">\n",
       "  <thead>\n",
       "    <tr style=\"text-align: right;\">\n",
       "      <th></th>\n",
       "      <th>Community</th>\n",
       "      <th>Age</th>\n",
       "      <th>Weight</th>\n",
       "      <th>Delivery phase</th>\n",
       "      <th>HB</th>\n",
       "      <th>IFA</th>\n",
       "      <th>BP</th>\n",
       "      <th>Education</th>\n",
       "      <th>Residence</th>\n",
       "      <th>Result</th>\n",
       "    </tr>\n",
       "  </thead>\n",
       "  <tbody>\n",
       "    <tr>\n",
       "      <th>count</th>\n",
       "      <td>96.000000</td>\n",
       "      <td>89.000000</td>\n",
       "      <td>85.000000</td>\n",
       "      <td>92.000000</td>\n",
       "      <td>77.000000</td>\n",
       "      <td>96.000000</td>\n",
       "      <td>81.000000</td>\n",
       "      <td>93.0</td>\n",
       "      <td>94.000000</td>\n",
       "      <td>96.000000</td>\n",
       "    </tr>\n",
       "    <tr>\n",
       "      <th>mean</th>\n",
       "      <td>2.177083</td>\n",
       "      <td>23.752809</td>\n",
       "      <td>45.129412</td>\n",
       "      <td>1.021739</td>\n",
       "      <td>9.076623</td>\n",
       "      <td>0.687500</td>\n",
       "      <td>1.725189</td>\n",
       "      <td>5.0</td>\n",
       "      <td>1.138298</td>\n",
       "      <td>0.750000</td>\n",
       "    </tr>\n",
       "    <tr>\n",
       "      <th>std</th>\n",
       "      <td>1.213909</td>\n",
       "      <td>3.321011</td>\n",
       "      <td>8.215532</td>\n",
       "      <td>0.146630</td>\n",
       "      <td>0.788052</td>\n",
       "      <td>0.465946</td>\n",
       "      <td>1.449447</td>\n",
       "      <td>0.0</td>\n",
       "      <td>0.347063</td>\n",
       "      <td>0.435286</td>\n",
       "    </tr>\n",
       "    <tr>\n",
       "      <th>min</th>\n",
       "      <td>1.000000</td>\n",
       "      <td>17.000000</td>\n",
       "      <td>30.000000</td>\n",
       "      <td>1.000000</td>\n",
       "      <td>5.900000</td>\n",
       "      <td>0.000000</td>\n",
       "      <td>1.200000</td>\n",
       "      <td>5.0</td>\n",
       "      <td>1.000000</td>\n",
       "      <td>0.000000</td>\n",
       "    </tr>\n",
       "    <tr>\n",
       "      <th>25%</th>\n",
       "      <td>1.000000</td>\n",
       "      <td>21.000000</td>\n",
       "      <td>40.000000</td>\n",
       "      <td>1.000000</td>\n",
       "      <td>8.900000</td>\n",
       "      <td>0.000000</td>\n",
       "      <td>1.375000</td>\n",
       "      <td>5.0</td>\n",
       "      <td>1.000000</td>\n",
       "      <td>0.750000</td>\n",
       "    </tr>\n",
       "    <tr>\n",
       "      <th>50%</th>\n",
       "      <td>2.500000</td>\n",
       "      <td>24.000000</td>\n",
       "      <td>43.000000</td>\n",
       "      <td>1.000000</td>\n",
       "      <td>9.000000</td>\n",
       "      <td>1.000000</td>\n",
       "      <td>1.500000</td>\n",
       "      <td>5.0</td>\n",
       "      <td>1.000000</td>\n",
       "      <td>1.000000</td>\n",
       "    </tr>\n",
       "    <tr>\n",
       "      <th>75%</th>\n",
       "      <td>3.000000</td>\n",
       "      <td>26.000000</td>\n",
       "      <td>50.000000</td>\n",
       "      <td>1.000000</td>\n",
       "      <td>9.200000</td>\n",
       "      <td>1.000000</td>\n",
       "      <td>1.661538</td>\n",
       "      <td>5.0</td>\n",
       "      <td>1.000000</td>\n",
       "      <td>1.000000</td>\n",
       "    </tr>\n",
       "    <tr>\n",
       "      <th>max</th>\n",
       "      <td>4.000000</td>\n",
       "      <td>38.000000</td>\n",
       "      <td>65.000000</td>\n",
       "      <td>2.000000</td>\n",
       "      <td>11.000000</td>\n",
       "      <td>1.000000</td>\n",
       "      <td>13.875000</td>\n",
       "      <td>5.0</td>\n",
       "      <td>2.000000</td>\n",
       "      <td>1.000000</td>\n",
       "    </tr>\n",
       "  </tbody>\n",
       "</table>\n",
       "</div>"
      ],
      "text/plain": [
       "       Community        Age     Weight  Delivery phase         HB        IFA  \\\n",
       "count  96.000000  89.000000  85.000000       92.000000  77.000000  96.000000   \n",
       "mean    2.177083  23.752809  45.129412        1.021739   9.076623   0.687500   \n",
       "std     1.213909   3.321011   8.215532        0.146630   0.788052   0.465946   \n",
       "min     1.000000  17.000000  30.000000        1.000000   5.900000   0.000000   \n",
       "25%     1.000000  21.000000  40.000000        1.000000   8.900000   0.000000   \n",
       "50%     2.500000  24.000000  43.000000        1.000000   9.000000   1.000000   \n",
       "75%     3.000000  26.000000  50.000000        1.000000   9.200000   1.000000   \n",
       "max     4.000000  38.000000  65.000000        2.000000  11.000000   1.000000   \n",
       "\n",
       "              BP  Education  Residence     Result  \n",
       "count  81.000000       93.0  94.000000  96.000000  \n",
       "mean    1.725189        5.0   1.138298   0.750000  \n",
       "std     1.449447        0.0   0.347063   0.435286  \n",
       "min     1.200000        5.0   1.000000   0.000000  \n",
       "25%     1.375000        5.0   1.000000   0.750000  \n",
       "50%     1.500000        5.0   1.000000   1.000000  \n",
       "75%     1.661538        5.0   1.000000   1.000000  \n",
       "max    13.875000        5.0   2.000000   1.000000  "
      ]
     },
     "execution_count": 636,
     "metadata": {},
     "output_type": "execute_result"
    }
   ],
   "source": [
    "stat_details"
   ]
  },
  {
   "cell_type": "code",
   "execution_count": 637,
   "metadata": {},
   "outputs": [
    {
     "data": {
      "text/plain": [
       "1.0    90\n",
       "2.0     2\n",
       "Name: Delivery phase, dtype: int64"
      ]
     },
     "execution_count": 637,
     "metadata": {},
     "output_type": "execute_result"
    }
   ],
   "source": [
    "### Delivery phase and Education features can be imputed with the mode value\n",
    "df['Delivery phase'].value_counts()"
   ]
  },
  {
   "cell_type": "code",
   "execution_count": 638,
   "metadata": {},
   "outputs": [],
   "source": [
    "df['Delivery phase'].fillna(1.0, inplace = True)"
   ]
  },
  {
   "cell_type": "code",
   "execution_count": 639,
   "metadata": {},
   "outputs": [
    {
     "data": {
      "text/plain": [
       "5.0    93\n",
       "Name: Education, dtype: int64"
      ]
     },
     "execution_count": 639,
     "metadata": {},
     "output_type": "execute_result"
    }
   ],
   "source": [
    "df['Education'].value_counts()"
   ]
  },
  {
   "cell_type": "code",
   "execution_count": 640,
   "metadata": {},
   "outputs": [],
   "source": [
    "df['Education'].fillna(5.0, inplace = True)"
   ]
  },
  {
   "cell_type": "code",
   "execution_count": 641,
   "metadata": {},
   "outputs": [],
   "source": [
    "df['Age'].fillna(df['Age'].mean(), inplace = True)\n",
    "df['Weight'].fillna(df['Weight'].mean(), inplace = True)"
   ]
  },
  {
   "cell_type": "code",
   "execution_count": 642,
   "metadata": {},
   "outputs": [],
   "source": [
    "import matplotlib.pyplot as plt"
   ]
  },
  {
   "cell_type": "code",
   "execution_count": 643,
   "metadata": {},
   "outputs": [
    {
     "data": {
      "text/plain": [
       "<matplotlib.collections.PathCollection at 0x1d652fd52b0>"
      ]
     },
     "execution_count": 643,
     "metadata": {},
     "output_type": "execute_result"
    },
    {
     "data": {
      "image/png": "[encoded data removed]",
      "text/plain": [
       "<Figure size 432x288 with 1 Axes>"
      ]
     },
     "metadata": {
      "needs_background": "light"
     },
     "output_type": "display_data"
    }
   ],
   "source": [
    "plt.scatter(df['Result'],df['HB'])"
   ]
  },
  {
   "cell_type": "markdown",
   "metadata": {},
   "source": [
    "**Shows that the result class with 1 as label has wide range of HB values**"
   ]
  },
  {
   "cell_type": "code",
   "execution_count": 644,
   "metadata": {},
   "outputs": [],
   "source": [
    "grouped_df = df.groupby(df['Result'])"
   ]
  },
  {
   "cell_type": "code",
   "execution_count": 645,
   "metadata": {},
   "outputs": [
    {
     "data": {
      "text/plain": [
       "Result\n",
       "0    9.1\n",
       "1    9.0\n",
       "Name: HB, dtype: float64"
      ]
     },
     "execution_count": 645,
     "metadata": {},
     "output_type": "execute_result"
    }
   ],
   "source": [
    "grouped_df['HB'].median()"
   ]
  },
  {
   "cell_type": "markdown",
   "metadata": {},
   "source": [
    "**Mean and median values show no much difference, could consider this wide range in graph while imputing**"
   ]
  },
  {
   "cell_type": "code",
   "execution_count": 646,
   "metadata": {},
   "outputs": [],
   "source": [
    "df['HB'].fillna(df['HB'].mean(), inplace = True)"
   ]
  },
  {
   "cell_type": "code",
   "execution_count": 647,
   "metadata": {},
   "outputs": [],
   "source": [
    "BP_mean = grouped_df['BP'].mean()"
   ]
  },
  {
   "cell_type": "code",
   "execution_count": 648,
   "metadata": {},
   "outputs": [
    {
     "data": {
      "text/plain": [
       "Result\n",
       "0    1.775443\n",
       "1    1.711841\n",
       "Name: BP, dtype: float64"
      ]
     },
     "execution_count": 648,
     "metadata": {},
     "output_type": "execute_result"
    }
   ],
   "source": [
    "BP_mean"
   ]
  },
  {
   "cell_type": "code",
   "execution_count": 649,
   "metadata": {},
   "outputs": [],
   "source": [
    "filt_1 = ((df['Result'] == 0) & (df['BP'].isnull()))\n",
    "filt_2 = ((df['Result'] == 1) & (df['BP'].isnull()))\n",
    "df.loc[filt_1, 'BP'] = BP_mean[0]\n",
    "df.loc[filt_2, 'BP'] = BP_mean[1]"
   ]
  },
  {
   "cell_type": "code",
   "execution_count": 650,
   "metadata": {},
   "outputs": [
    {
     "data": {
      "text/plain": [
       "1.0    81\n",
       "2.0    13\n",
       "Name: Residence, dtype: int64"
      ]
     },
     "execution_count": 650,
     "metadata": {},
     "output_type": "execute_result"
    }
   ],
   "source": [
    "df['Residence'].value_counts()"
   ]
  },
  {
   "cell_type": "code",
   "execution_count": 651,
   "metadata": {},
   "outputs": [],
   "source": [
    "df['Residence'].fillna(1, inplace = True)"
   ]
  },
  {
   "cell_type": "code",
   "execution_count": 652,
   "metadata": {},
   "outputs": [
    {
     "data": {
      "text/html": [
       "<div>\n",
       "<style scoped>\n",
       "    .dataframe tbody tr th:only-of-type {\n",
       "        vertical-align: middle;\n",
       "    }\n",
       "\n",
       "    .dataframe tbody tr th {\n",
       "        vertical-align: top;\n",
       "    }\n",
       "\n",
       "    .dataframe thead th {\n",
       "        text-align: right;\n",
       "    }\n",
       "</style>\n",
       "<table border=\"1\" class=\"dataframe\">\n",
       "  <thead>\n",
       "    <tr style=\"text-align: right;\">\n",
       "      <th></th>\n",
       "      <th>Community</th>\n",
       "      <th>Age</th>\n",
       "      <th>Weight</th>\n",
       "      <th>Delivery phase</th>\n",
       "      <th>HB</th>\n",
       "      <th>IFA</th>\n",
       "      <th>BP</th>\n",
       "      <th>Education</th>\n",
       "      <th>Residence</th>\n",
       "      <th>Result</th>\n",
       "    </tr>\n",
       "  </thead>\n",
       "  <tbody>\n",
       "    <tr>\n",
       "      <th>count</th>\n",
       "      <td>96.000000</td>\n",
       "      <td>96.000000</td>\n",
       "      <td>96.000000</td>\n",
       "      <td>96.000000</td>\n",
       "      <td>96.000000</td>\n",
       "      <td>96.000000</td>\n",
       "      <td>96.000000</td>\n",
       "      <td>96.0</td>\n",
       "      <td>96.000000</td>\n",
       "      <td>96.000000</td>\n",
       "    </tr>\n",
       "    <tr>\n",
       "      <th>mean</th>\n",
       "      <td>2.177083</td>\n",
       "      <td>23.752809</td>\n",
       "      <td>45.129412</td>\n",
       "      <td>1.020833</td>\n",
       "      <td>9.076623</td>\n",
       "      <td>0.687500</td>\n",
       "      <td>1.727741</td>\n",
       "      <td>5.0</td>\n",
       "      <td>1.135417</td>\n",
       "      <td>0.750000</td>\n",
       "    </tr>\n",
       "    <tr>\n",
       "      <th>std</th>\n",
       "      <td>1.213909</td>\n",
       "      <td>3.196317</td>\n",
       "      <td>7.725267</td>\n",
       "      <td>0.143576</td>\n",
       "      <td>0.704855</td>\n",
       "      <td>0.465946</td>\n",
       "      <td>1.330177</td>\n",
       "      <td>0.0</td>\n",
       "      <td>0.343964</td>\n",
       "      <td>0.435286</td>\n",
       "    </tr>\n",
       "    <tr>\n",
       "      <th>min</th>\n",
       "      <td>1.000000</td>\n",
       "      <td>17.000000</td>\n",
       "      <td>30.000000</td>\n",
       "      <td>1.000000</td>\n",
       "      <td>5.900000</td>\n",
       "      <td>0.000000</td>\n",
       "      <td>1.200000</td>\n",
       "      <td>5.0</td>\n",
       "      <td>1.000000</td>\n",
       "      <td>0.000000</td>\n",
       "    </tr>\n",
       "    <tr>\n",
       "      <th>25%</th>\n",
       "      <td>1.000000</td>\n",
       "      <td>21.000000</td>\n",
       "      <td>40.000000</td>\n",
       "      <td>1.000000</td>\n",
       "      <td>9.000000</td>\n",
       "      <td>0.000000</td>\n",
       "      <td>1.375000</td>\n",
       "      <td>5.0</td>\n",
       "      <td>1.000000</td>\n",
       "      <td>0.750000</td>\n",
       "    </tr>\n",
       "    <tr>\n",
       "      <th>50%</th>\n",
       "      <td>2.500000</td>\n",
       "      <td>24.000000</td>\n",
       "      <td>45.000000</td>\n",
       "      <td>1.000000</td>\n",
       "      <td>9.076623</td>\n",
       "      <td>1.000000</td>\n",
       "      <td>1.571429</td>\n",
       "      <td>5.0</td>\n",
       "      <td>1.000000</td>\n",
       "      <td>1.000000</td>\n",
       "    </tr>\n",
       "    <tr>\n",
       "      <th>75%</th>\n",
       "      <td>3.000000</td>\n",
       "      <td>25.250000</td>\n",
       "      <td>49.250000</td>\n",
       "      <td>1.000000</td>\n",
       "      <td>9.200000</td>\n",
       "      <td>1.000000</td>\n",
       "      <td>1.711841</td>\n",
       "      <td>5.0</td>\n",
       "      <td>1.000000</td>\n",
       "      <td>1.000000</td>\n",
       "    </tr>\n",
       "    <tr>\n",
       "      <th>max</th>\n",
       "      <td>4.000000</td>\n",
       "      <td>38.000000</td>\n",
       "      <td>65.000000</td>\n",
       "      <td>2.000000</td>\n",
       "      <td>11.000000</td>\n",
       "      <td>1.000000</td>\n",
       "      <td>13.875000</td>\n",
       "      <td>5.0</td>\n",
       "      <td>2.000000</td>\n",
       "      <td>1.000000</td>\n",
       "    </tr>\n",
       "  </tbody>\n",
       "</table>\n",
       "</div>"
      ],
      "text/plain": [
       "       Community        Age     Weight  Delivery phase         HB        IFA  \\\n",
       "count  96.000000  96.000000  96.000000       96.000000  96.000000  96.000000   \n",
       "mean    2.177083  23.752809  45.129412        1.020833   9.076623   0.687500   \n",
       "std     1.213909   3.196317   7.725267        0.143576   0.704855   0.465946   \n",
       "min     1.000000  17.000000  30.000000        1.000000   5.900000   0.000000   \n",
       "25%     1.000000  21.000000  40.000000        1.000000   9.000000   0.000000   \n",
       "50%     2.500000  24.000000  45.000000        1.000000   9.076623   1.000000   \n",
       "75%     3.000000  25.250000  49.250000        1.000000   9.200000   1.000000   \n",
       "max     4.000000  38.000000  65.000000        2.000000  11.000000   1.000000   \n",
       "\n",
       "              BP  Education  Residence     Result  \n",
       "count  96.000000       96.0  96.000000  96.000000  \n",
       "mean    1.727741        5.0   1.135417   0.750000  \n",
       "std     1.330177        0.0   0.343964   0.435286  \n",
       "min     1.200000        5.0   1.000000   0.000000  \n",
       "25%     1.375000        5.0   1.000000   0.750000  \n",
       "50%     1.571429        5.0   1.000000   1.000000  \n",
       "75%     1.711841        5.0   1.000000   1.000000  \n",
       "max    13.875000        5.0   2.000000   1.000000  "
      ]
     },
     "execution_count": 652,
     "metadata": {},
     "output_type": "execute_result"
    }
   ],
   "source": [
    "df.describe()"
   ]
  },
  {
   "cell_type": "code",
   "execution_count": 653,
   "metadata": {},
   "outputs": [],
   "source": [
    "df.to_csv('cleaned_LBW_Dataset.csv')"
   ]
  },
  {
   "cell_type": "code",
   "execution_count": 654,
   "metadata": {},
   "outputs": [
    {
     "data": {
      "text/plain": [
       "54    1\n",
       "36    1\n",
       "83    1\n",
       "17    0\n",
       "3     0\n",
       "13    0\n",
       "81    1\n",
       "21    0\n",
       "74    1\n",
       "95    1\n",
       "51    1\n",
       "64    1\n",
       "35    1\n",
       "61    1\n",
       "87    1\n",
       "49    1\n",
       "56    1\n",
       "93    1\n",
       "69    1\n",
       "31    1\n",
       "59    1\n",
       "20    0\n",
       "11    0\n",
       "85    1\n",
       "Name: Result, dtype: int64"
      ]
     },
     "execution_count": 654,
     "metadata": {},
     "output_type": "execute_result"
    }
   ],
   "source": [
    "X_train_sample = df.sample(int(0.75*len(df)))\n",
    "X_test_sample = df.sample(int(0.25*len(df)))\n",
    "columns = ['Community','Age','Weight','Delivery phase','HB','IFA','BP','Education','Residence']\n",
    "X_train = X_train_sample[columns]\n",
    "Y_train = X_train_sample['Result']\n",
    "X_test = X_test_sample[columns]\n",
    "Y_test_for_accuracy = X_test_sample['Result']\n",
    "X_test = np.array(X_test)\n",
    "Z = np.zeros((len(Y_train),1))\n",
    "t = 0\n",
    "for i in Y_train:\n",
    "    Z[t] = i\n",
    "    t+=1\n",
    "X_train = np.array(X_train)\n",
    "Y_test_for_accuracy"
   ]
  },
  {
   "cell_type": "code",
   "execution_count": 655,
   "metadata": {},
   "outputs": [],
   "source": [
    "wi_1 = np.random.randn(18,9)\n",
    "bi_1 = [1 for i in range(18)]\n",
    "wi_2 = np.random.randn(18,1)\n",
    "bi_2 = [1 for i in range(1)]"
   ]
  },
  {
   "cell_type": "code",
   "execution_count": 656,
   "metadata": {},
   "outputs": [],
   "source": [
    "def forward_prop(X,wi_1,bi_1,wi_2,bi_2):\n",
    "    #first layer \n",
    "    M1 = 1/(1+np.exp(-(X.dot(wi_1.T)+bi_1)))\n",
    "    #second layer\n",
    "    A1 = M1.dot(wi_2)+bi_2 \n",
    "    Y = 1/(1+np.exp(-(A1)))\n",
    "    return Y,M1"
   ]
  },
  {
   "cell_type": "code",
   "execution_count": 657,
   "metadata": {},
   "outputs": [],
   "source": [
    "a,b = forward_prop(X_train,wi_1,bi_1,wi_2,bi_2)"
   ]
  },
  {
   "cell_type": "code",
   "execution_count": 658,
   "metadata": {},
   "outputs": [],
   "source": [
    "def diff_wi_2(H,Z,Y):\n",
    "    #print(Z-Y)\n",
    "    return H.T.dot(Z-Y)\n",
    "\n",
    "def diff_wi_1(X,H,Z,output,wi_2):\n",
    "    dz = (Z-output).dot(wi_2.T)*H*(1-H)\n",
    "    return X.T.dot(dz)"
   ]
  },
  {
   "cell_type": "code",
   "execution_count": 659,
   "metadata": {},
   "outputs": [],
   "source": [
    "def diff_B2(Z,Y):\n",
    "    return (Z-Y).sum(axis=0)\n",
    "\n",
    "def diff_B1(Z,Y,wi_2,H):\n",
    "    return ((Z-Y).dot(wi_2.T)*H*(1-H)).sum(axis=0)"
   ]
  },
  {
   "cell_type": "code",
   "execution_count": 660,
   "metadata": {},
   "outputs": [],
   "source": [
    "learning_rate = 1e-3\n",
    "for epoch in range(25000):\n",
    "    output,hidden = forward_prop(X_train,wi_1,bi_1,wi_2,bi_2)\n",
    "    wi_2+=learning_rate*diff_wi_2(hidden,Z,output)\n",
    "    bi_2+=learning_rate*diff_B2(Z,output)\n",
    "    wi_1+=learning_rate*diff_wi_1(X_train,hidden,Z,output,wi_2).T\n",
    "    bi_1+=learning_rate*diff_B1(Z,output,wi_2,hidden)\n",
    "    "
   ]
  },
  {
   "cell_type": "code",
   "execution_count": 661,
   "metadata": {},
   "outputs": [],
   "source": [
    "hidden_output = 1/(1+np.exp(-((X_test.dot(wi_1.T))-bi_1)))\n",
    "output_layer_output = hidden_output.dot(wi_2)+bi_2 \n",
    "Y = 1/(1+np.exp(-(output_layer_output)))\n",
    "#Y,Y_test_for_accuracy\n",
    "#print(\"Probability of class 0>>>{}\\n Probability of class 1>>>{} \".format(Y[0],Y[1]))"
   ]
  },
  {
   "cell_type": "code",
   "execution_count": 662,
   "metadata": {},
   "outputs": [
    {
     "name": "stdout",
     "output_type": "stream",
     "text": [
      "0.8333333333333334\n"
     ]
    }
   ],
   "source": [
    "output = 0\n",
    "output_array = list(zip(Y,Y_test_for_accuracy))\n",
    "for i in output_array:\n",
    "    if i[0]>=0.5 and i[1]==1:\n",
    "        output+=1 \n",
    "    elif i[0]<0.5 and i[1]==0:\n",
    "        output+=1\n",
    "print(output/len(Y))\n",
    "#Y , Y_test_for_accuracy  "
   ]
  },
  {
   "cell_type": "code",
   "execution_count": 568,
   "metadata": {},
   "outputs": [],
   "source": [
    "def sigmoid(x):\n",
    "    return 1/(1+np.exp(-x))\n",
    "def sigmoid_derivative(x):\n",
    "    return x*(1-x)"
   ]
  },
  {
   "cell_type": "code",
   "execution_count": null,
   "metadata": {},
   "outputs": [],
   "source": []
  },
  {
   "cell_type": "code",
   "execution_count": null,
   "metadata": {},
   "outputs": [],
   "source": []
  },
  {
   "cell_type": "code",
   "execution_count": null,
   "metadata": {},
   "outputs": [],
   "source": []
  }
 ],
 "metadata": {
  "kernelspec": {
   "display_name": "Python 3",
   "language": "python",
   "name": "python3"
  },
  "language_info": {
   "codemirror_mode": {
    "name": "ipython",
    "version": 3
   },
   "file_extension": ".py",
   "mimetype": "text/x-python",
   "name": "python",
   "nbconvert_exporter": "python",
   "pygments_lexer": "ipython3",
   "version": "3.7.3"
  }
 },
 "nbformat": 4,
 "nbformat_minor": 2
}
