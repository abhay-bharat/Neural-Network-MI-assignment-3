{
 "cells": [
  {
   "cell_type": "code",
   "execution_count": 503,
   "metadata": {},
   "outputs": [],
   "source": [
    "import pandas as pd\n",
    "import numpy as np"
   ]
  },
  {
   "cell_type": "code",
   "execution_count": 504,
   "metadata": {},
   "outputs": [],
   "source": [
    "df = pd.read_csv('LBW_Dataset.csv')"
   ]
  },
  {
   "cell_type": "code",
   "execution_count": 505,
   "metadata": {},
   "outputs": [
    {
     "data": {
      "text/plain": [
       "(96, 10)"
      ]
     },
     "execution_count": 505,
     "metadata": {},
     "output_type": "execute_result"
    }
   ],
   "source": [
    "df.shape"
   ]
  },
  {
   "cell_type": "code",
   "execution_count": 506,
   "metadata": {},
   "outputs": [],
   "source": [
    "stat_details = df.describe()"
   ]
  },
  {
   "cell_type": "code",
   "execution_count": 507,
   "metadata": {},
   "outputs": [
    {
     "data": {
      "text/html": [
       "<div>\n",
       "<style scoped>\n",
       "    .dataframe tbody tr th:only-of-type {\n",
       "        vertical-align: middle;\n",
       "    }\n",
       "\n",
       "    .dataframe tbody tr th {\n",
       "        vertical-align: top;\n",
       "    }\n",
       "\n",
       "    .dataframe thead th {\n",
       "        text-align: right;\n",
       "    }\n",
       "</style>\n",
       "<table border=\"1\" class=\"dataframe\">\n",
       "  <thead>\n",
       "    <tr style=\"text-align: right;\">\n",
       "      <th></th>\n",
       "      <th>Community</th>\n",
       "      <th>Age</th>\n",
       "      <th>Weight</th>\n",
       "      <th>Delivery phase</th>\n",
       "      <th>HB</th>\n",
       "      <th>IFA</th>\n",
       "      <th>BP</th>\n",
       "      <th>Education</th>\n",
       "      <th>Residence</th>\n",
       "      <th>Result</th>\n",
       "    </tr>\n",
       "  </thead>\n",
       "  <tbody>\n",
       "    <tr>\n",
       "      <th>count</th>\n",
       "      <td>96.000000</td>\n",
       "      <td>89.000000</td>\n",
       "      <td>85.000000</td>\n",
       "      <td>92.000000</td>\n",
       "      <td>77.000000</td>\n",
       "      <td>96.000000</td>\n",
       "      <td>81.000000</td>\n",
       "      <td>93.0</td>\n",
       "      <td>94.000000</td>\n",
       "      <td>96.000000</td>\n",
       "    </tr>\n",
       "    <tr>\n",
       "      <th>mean</th>\n",
       "      <td>2.177083</td>\n",
       "      <td>23.752809</td>\n",
       "      <td>45.129412</td>\n",
       "      <td>1.021739</td>\n",
       "      <td>9.076623</td>\n",
       "      <td>0.687500</td>\n",
       "      <td>1.725189</td>\n",
       "      <td>5.0</td>\n",
       "      <td>1.138298</td>\n",
       "      <td>0.750000</td>\n",
       "    </tr>\n",
       "    <tr>\n",
       "      <th>std</th>\n",
       "      <td>1.213909</td>\n",
       "      <td>3.321011</td>\n",
       "      <td>8.215532</td>\n",
       "      <td>0.146630</td>\n",
       "      <td>0.788052</td>\n",
       "      <td>0.465946</td>\n",
       "      <td>1.449447</td>\n",
       "      <td>0.0</td>\n",
       "      <td>0.347063</td>\n",
       "      <td>0.435286</td>\n",
       "    </tr>\n",
       "    <tr>\n",
       "      <th>min</th>\n",
       "      <td>1.000000</td>\n",
       "      <td>17.000000</td>\n",
       "      <td>30.000000</td>\n",
       "      <td>1.000000</td>\n",
       "      <td>5.900000</td>\n",
       "      <td>0.000000</td>\n",
       "      <td>1.200000</td>\n",
       "      <td>5.0</td>\n",
       "      <td>1.000000</td>\n",
       "      <td>0.000000</td>\n",
       "    </tr>\n",
       "    <tr>\n",
       "      <th>25%</th>\n",
       "      <td>1.000000</td>\n",
       "      <td>21.000000</td>\n",
       "      <td>40.000000</td>\n",
       "      <td>1.000000</td>\n",
       "      <td>8.900000</td>\n",
       "      <td>0.000000</td>\n",
       "      <td>1.375000</td>\n",
       "      <td>5.0</td>\n",
       "      <td>1.000000</td>\n",
       "      <td>0.750000</td>\n",
       "    </tr>\n",
       "    <tr>\n",
       "      <th>50%</th>\n",
       "      <td>2.500000</td>\n",
       "      <td>24.000000</td>\n",
       "      <td>43.000000</td>\n",
       "      <td>1.000000</td>\n",
       "      <td>9.000000</td>\n",
       "      <td>1.000000</td>\n",
       "      <td>1.500000</td>\n",
       "      <td>5.0</td>\n",
       "      <td>1.000000</td>\n",
       "      <td>1.000000</td>\n",
       "    </tr>\n",
       "    <tr>\n",
       "      <th>75%</th>\n",
       "      <td>3.000000</td>\n",
       "      <td>26.000000</td>\n",
       "      <td>50.000000</td>\n",
       "      <td>1.000000</td>\n",
       "      <td>9.200000</td>\n",
       "      <td>1.000000</td>\n",
       "      <td>1.661538</td>\n",
       "      <td>5.0</td>\n",
       "      <td>1.000000</td>\n",
       "      <td>1.000000</td>\n",
       "    </tr>\n",
       "    <tr>\n",
       "      <th>max</th>\n",
       "      <td>4.000000</td>\n",
       "      <td>38.000000</td>\n",
       "      <td>65.000000</td>\n",
       "      <td>2.000000</td>\n",
       "      <td>11.000000</td>\n",
       "      <td>1.000000</td>\n",
       "      <td>13.875000</td>\n",
       "      <td>5.0</td>\n",
       "      <td>2.000000</td>\n",
       "      <td>1.000000</td>\n",
       "    </tr>\n",
       "  </tbody>\n",
       "</table>\n",
       "</div>"
      ],
      "text/plain": [
       "       Community        Age     Weight  Delivery phase         HB        IFA  \\\n",
       "count  96.000000  89.000000  85.000000       92.000000  77.000000  96.000000   \n",
       "mean    2.177083  23.752809  45.129412        1.021739   9.076623   0.687500   \n",
       "std     1.213909   3.321011   8.215532        0.146630   0.788052   0.465946   \n",
       "min     1.000000  17.000000  30.000000        1.000000   5.900000   0.000000   \n",
       "25%     1.000000  21.000000  40.000000        1.000000   8.900000   0.000000   \n",
       "50%     2.500000  24.000000  43.000000        1.000000   9.000000   1.000000   \n",
       "75%     3.000000  26.000000  50.000000        1.000000   9.200000   1.000000   \n",
       "max     4.000000  38.000000  65.000000        2.000000  11.000000   1.000000   \n",
       "\n",
       "              BP  Education  Residence     Result  \n",
       "count  81.000000       93.0  94.000000  96.000000  \n",
       "mean    1.725189        5.0   1.138298   0.750000  \n",
       "std     1.449447        0.0   0.347063   0.435286  \n",
       "min     1.200000        5.0   1.000000   0.000000  \n",
       "25%     1.375000        5.0   1.000000   0.750000  \n",
       "50%     1.500000        5.0   1.000000   1.000000  \n",
       "75%     1.661538        5.0   1.000000   1.000000  \n",
       "max    13.875000        5.0   2.000000   1.000000  "
      ]
     },
     "execution_count": 507,
     "metadata": {},
     "output_type": "execute_result"
    }
   ],
   "source": [
    "stat_details"
   ]
  },
  {
   "cell_type": "code",
   "execution_count": 508,
   "metadata": {},
   "outputs": [
    {
     "data": {
      "text/plain": [
       "1.0    90\n",
       "2.0     2\n",
       "Name: Delivery phase, dtype: int64"
      ]
     },
     "execution_count": 508,
     "metadata": {},
     "output_type": "execute_result"
    }
   ],
   "source": [
    "### Delivery phase and Education features can be imputed with the mode value\n",
    "df['Delivery phase'].value_counts()"
   ]
  },
  {
   "cell_type": "code",
   "execution_count": 509,
   "metadata": {},
   "outputs": [],
   "source": [
    "df['Delivery phase'].fillna(1.0, inplace = True)"
   ]
  },
  {
   "cell_type": "code",
   "execution_count": 510,
   "metadata": {},
   "outputs": [
    {
     "data": {
      "text/plain": [
       "5.0    93\n",
       "Name: Education, dtype: int64"
      ]
     },
     "execution_count": 510,
     "metadata": {},
     "output_type": "execute_result"
    }
   ],
   "source": [
    "df['Education'].value_counts()"
   ]
  },
  {
   "cell_type": "code",
   "execution_count": 511,
   "metadata": {},
   "outputs": [],
   "source": [
    "df['Education'].fillna(5.0, inplace = True)"
   ]
  },
  {
   "cell_type": "code",
   "execution_count": 512,
   "metadata": {},
   "outputs": [],
   "source": [
    "df['Age'].fillna(df['Age'].mean(), inplace = True)\n",
    "df['Weight'].fillna(df['Weight'].mean(), inplace = True)"
   ]
  },
  {
   "cell_type": "code",
   "execution_count": 513,
   "metadata": {},
   "outputs": [],
   "source": [
    "import matplotlib.pyplot as plt"
   ]
  },
  {
   "cell_type": "code",
   "execution_count": 514,
   "metadata": {},
   "outputs": [
    {
     "data": {
      "text/plain": [
       "<matplotlib.collections.PathCollection at 0x2e3d9f0cc18>"
      ]
     },
     "execution_count": 514,
     "metadata": {},
     "output_type": "execute_result"
    },
    {
     "data": {
      "image/png": "[encoded data removed]",
      "text/plain": [
       "<Figure size 432x288 with 1 Axes>"
      ]
     },
     "metadata": {
      "needs_background": "light"
     },
     "output_type": "display_data"
    }
   ],
   "source": [
    "plt.scatter(df['Result'],df['HB'])"
   ]
  },
  {
   "cell_type": "markdown",
   "metadata": {},
   "source": [
    "**Shows that the result class with 1 as label has wide range of HB values**"
   ]
  },
  {
   "cell_type": "code",
   "execution_count": 515,
   "metadata": {},
   "outputs": [],
   "source": [
    "grouped_df = df.groupby(df['Result'])"
   ]
  },
  {
   "cell_type": "code",
   "execution_count": 516,
   "metadata": {},
   "outputs": [
    {
     "data": {
      "text/plain": [
       "Result\n",
       "0    9.1\n",
       "1    9.0\n",
       "Name: HB, dtype: float64"
      ]
     },
     "execution_count": 516,
     "metadata": {},
     "output_type": "execute_result"
    }
   ],
   "source": [
    "grouped_df['HB'].median()"
   ]
  },
  {
   "cell_type": "markdown",
   "metadata": {},
   "source": [
    "**Mean and median values show no much difference, could consider this wide range in graph while imputing**"
   ]
  },
  {
   "cell_type": "code",
   "execution_count": 517,
   "metadata": {},
   "outputs": [],
   "source": [
    "df['HB'].fillna(df['HB'].mean(), inplace = True)"
   ]
  },
  {
   "cell_type": "code",
   "execution_count": 518,
   "metadata": {},
   "outputs": [],
   "source": [
    "BP_mean = grouped_df['BP'].mean()"
   ]
  },
  {
   "cell_type": "code",
   "execution_count": 519,
   "metadata": {},
   "outputs": [
    {
     "data": {
      "text/plain": [
       "Result\n",
       "0    1.775443\n",
       "1    1.711841\n",
       "Name: BP, dtype: float64"
      ]
     },
     "execution_count": 519,
     "metadata": {},
     "output_type": "execute_result"
    }
   ],
   "source": [
    "BP_mean"
   ]
  },
  {
   "cell_type": "code",
   "execution_count": 520,
   "metadata": {},
   "outputs": [],
   "source": [
    "filt_1 = ((df['Result'] == 0) & (df['BP'].isnull()))\n",
    "filt_2 = ((df['Result'] == 1) & (df['BP'].isnull()))\n",
    "df.loc[filt_1, 'BP'] = BP_mean[0]\n",
    "df.loc[filt_2, 'BP'] = BP_mean[1]"
   ]
  },
  {
   "cell_type": "code",
   "execution_count": 521,
   "metadata": {},
   "outputs": [
    {
     "data": {
      "text/plain": [
       "1.0    81\n",
       "2.0    13\n",
       "Name: Residence, dtype: int64"
      ]
     },
     "execution_count": 521,
     "metadata": {},
     "output_type": "execute_result"
    }
   ],
   "source": [
    "df['Residence'].value_counts()"
   ]
  },
  {
   "cell_type": "code",
   "execution_count": 522,
   "metadata": {},
   "outputs": [],
   "source": [
    "df['Residence'].fillna(1, inplace = True)"
   ]
  },
  {
   "cell_type": "code",
   "execution_count": 523,
   "metadata": {},
   "outputs": [
    {
     "data": {
      "text/html": [
       "<div>\n",
       "<style scoped>\n",
       "    .dataframe tbody tr th:only-of-type {\n",
       "        vertical-align: middle;\n",
       "    }\n",
       "\n",
       "    .dataframe tbody tr th {\n",
       "        vertical-align: top;\n",
       "    }\n",
       "\n",
       "    .dataframe thead th {\n",
       "        text-align: right;\n",
       "    }\n",
       "</style>\n",
       "<table border=\"1\" class=\"dataframe\">\n",
       "  <thead>\n",
       "    <tr style=\"text-align: right;\">\n",
       "      <th></th>\n",
       "      <th>Community</th>\n",
       "      <th>Age</th>\n",
       "      <th>Weight</th>\n",
       "      <th>Delivery phase</th>\n",
       "      <th>HB</th>\n",
       "      <th>IFA</th>\n",
       "      <th>BP</th>\n",
       "      <th>Education</th>\n",
       "      <th>Residence</th>\n",
       "      <th>Result</th>\n",
       "    </tr>\n",
       "  </thead>\n",
       "  <tbody>\n",
       "    <tr>\n",
       "      <th>count</th>\n",
       "      <td>96.000000</td>\n",
       "      <td>96.000000</td>\n",
       "      <td>96.000000</td>\n",
       "      <td>96.000000</td>\n",
       "      <td>96.000000</td>\n",
       "      <td>96.000000</td>\n",
       "      <td>96.000000</td>\n",
       "      <td>96.0</td>\n",
       "      <td>96.000000</td>\n",
       "      <td>96.000000</td>\n",
       "    </tr>\n",
       "    <tr>\n",
       "      <th>mean</th>\n",
       "      <td>2.177083</td>\n",
       "      <td>23.752809</td>\n",
       "      <td>45.129412</td>\n",
       "      <td>1.020833</td>\n",
       "      <td>9.076623</td>\n",
       "      <td>0.687500</td>\n",
       "      <td>1.727741</td>\n",
       "      <td>5.0</td>\n",
       "      <td>1.135417</td>\n",
       "      <td>0.750000</td>\n",
       "    </tr>\n",
       "    <tr>\n",
       "      <th>std</th>\n",
       "      <td>1.213909</td>\n",
       "      <td>3.196317</td>\n",
       "      <td>7.725267</td>\n",
       "      <td>0.143576</td>\n",
       "      <td>0.704855</td>\n",
       "      <td>0.465946</td>\n",
       "      <td>1.330177</td>\n",
       "      <td>0.0</td>\n",
       "      <td>0.343964</td>\n",
       "      <td>0.435286</td>\n",
       "    </tr>\n",
       "    <tr>\n",
       "      <th>min</th>\n",
       "      <td>1.000000</td>\n",
       "      <td>17.000000</td>\n",
       "      <td>30.000000</td>\n",
       "      <td>1.000000</td>\n",
       "      <td>5.900000</td>\n",
       "      <td>0.000000</td>\n",
       "      <td>1.200000</td>\n",
       "      <td>5.0</td>\n",
       "      <td>1.000000</td>\n",
       "      <td>0.000000</td>\n",
       "    </tr>\n",
       "    <tr>\n",
       "      <th>25%</th>\n",
       "      <td>1.000000</td>\n",
       "      <td>21.000000</td>\n",
       "      <td>40.000000</td>\n",
       "      <td>1.000000</td>\n",
       "      <td>9.000000</td>\n",
       "      <td>0.000000</td>\n",
       "      <td>1.375000</td>\n",
       "      <td>5.0</td>\n",
       "      <td>1.000000</td>\n",
       "      <td>0.750000</td>\n",
       "    </tr>\n",
       "    <tr>\n",
       "      <th>50%</th>\n",
       "      <td>2.500000</td>\n",
       "      <td>24.000000</td>\n",
       "      <td>45.000000</td>\n",
       "      <td>1.000000</td>\n",
       "      <td>9.076623</td>\n",
       "      <td>1.000000</td>\n",
       "      <td>1.571429</td>\n",
       "      <td>5.0</td>\n",
       "      <td>1.000000</td>\n",
       "      <td>1.000000</td>\n",
       "    </tr>\n",
       "    <tr>\n",
       "      <th>75%</th>\n",
       "      <td>3.000000</td>\n",
       "      <td>25.250000</td>\n",
       "      <td>49.250000</td>\n",
       "      <td>1.000000</td>\n",
       "      <td>9.200000</td>\n",
       "      <td>1.000000</td>\n",
       "      <td>1.711841</td>\n",
       "      <td>5.0</td>\n",
       "      <td>1.000000</td>\n",
       "      <td>1.000000</td>\n",
       "    </tr>\n",
       "    <tr>\n",
       "      <th>max</th>\n",
       "      <td>4.000000</td>\n",
       "      <td>38.000000</td>\n",
       "      <td>65.000000</td>\n",
       "      <td>2.000000</td>\n",
       "      <td>11.000000</td>\n",
       "      <td>1.000000</td>\n",
       "      <td>13.875000</td>\n",
       "      <td>5.0</td>\n",
       "      <td>2.000000</td>\n",
       "      <td>1.000000</td>\n",
       "    </tr>\n",
       "  </tbody>\n",
       "</table>\n",
       "</div>"
      ],
      "text/plain": [
       "       Community        Age     Weight  Delivery phase         HB        IFA  \\\n",
       "count  96.000000  96.000000  96.000000       96.000000  96.000000  96.000000   \n",
       "mean    2.177083  23.752809  45.129412        1.020833   9.076623   0.687500   \n",
       "std     1.213909   3.196317   7.725267        0.143576   0.704855   0.465946   \n",
       "min     1.000000  17.000000  30.000000        1.000000   5.900000   0.000000   \n",
       "25%     1.000000  21.000000  40.000000        1.000000   9.000000   0.000000   \n",
       "50%     2.500000  24.000000  45.000000        1.000000   9.076623   1.000000   \n",
       "75%     3.000000  25.250000  49.250000        1.000000   9.200000   1.000000   \n",
       "max     4.000000  38.000000  65.000000        2.000000  11.000000   1.000000   \n",
       "\n",
       "              BP  Education  Residence     Result  \n",
       "count  96.000000       96.0  96.000000  96.000000  \n",
       "mean    1.727741        5.0   1.135417   0.750000  \n",
       "std     1.330177        0.0   0.343964   0.435286  \n",
       "min     1.200000        5.0   1.000000   0.000000  \n",
       "25%     1.375000        5.0   1.000000   0.750000  \n",
       "50%     1.571429        5.0   1.000000   1.000000  \n",
       "75%     1.711841        5.0   1.000000   1.000000  \n",
       "max    13.875000        5.0   2.000000   1.000000  "
      ]
     },
     "execution_count": 523,
     "metadata": {},
     "output_type": "execute_result"
    }
   ],
   "source": [
    "df.describe()"
   ]
  },
  {
   "cell_type": "code",
   "execution_count": 524,
   "metadata": {},
   "outputs": [],
   "source": [
    "df.to_csv('cleaned_LBW_Dataset.csv')"
   ]
  },
  {
   "cell_type": "code",
   "execution_count": 560,
   "metadata": {},
   "outputs": [],
   "source": [
    "X_train_sample = df.sample(int(.7*len(df)))\n",
    "X_test_sample = df.sample(int(0.3*len(df)))\n",
    "columns = ['Community','Age','Weight','Delivery phase','HB','IFA','BP','Education','Residence']\n",
    "X_train = X_train_sample[columns]\n",
    "Y_train = X_train_sample['Result']\n",
    "X_test = X_test_sample[columns]\n",
    "X_test = np.array(X_test)\n",
    "Z = np.zeros((len(Y_train),2))\n",
    "t = 0\n",
    "for i in Y_train.index:\n",
    "    Z[t,Y_train[i]] = 1\n",
    "    t+=1\n",
    "X_train = np.array(X_train)"
   ]
  },
  {
   "cell_type": "code",
   "execution_count": 561,
   "metadata": {},
   "outputs": [],
   "source": [
    "wi_1 = np.random.randn(15,9)\n",
    "bi_1 = [1 for i in range(15)]\n",
    "wi_2 = np.random.randn(15,2)\n",
    "bi_2 = [1 for i in range(2)]"
   ]
  },
  {
   "cell_type": "code",
   "execution_count": 562,
   "metadata": {},
   "outputs": [],
   "source": [
    "def forward_prop(X,wi_1,bi_1,wi_2,bi_2):\n",
    "    #first layer \n",
    "    M1 = 1/(1+np.exp(-(X.dot(wi_1.T)+bi_1)))\n",
    "    #second layer\n",
    "    A1 = M1.dot(wi_2)+bi_2 \n",
    "    expA = np.exp(A1)\n",
    "    Y = expA/expA.sum(axis=1,keepdims=True)\n",
    "    return Y,M1"
   ]
  },
  {
   "cell_type": "code",
   "execution_count": 563,
   "metadata": {},
   "outputs": [
    {
     "data": {
      "text/plain": [
       "(array([[0.02505499, 0.97494501],\n",
       "        [0.03080468, 0.96919532],\n",
       "        [0.02151902, 0.97848098],\n",
       "        [0.02167248, 0.97832752],\n",
       "        [0.03132586, 0.96867414],\n",
       "        [0.03185619, 0.96814381],\n",
       "        [0.02147045, 0.97852955],\n",
       "        [0.02552213, 0.97447787],\n",
       "        [0.02145781, 0.97854219],\n",
       "        [0.02195098, 0.97804902],\n",
       "        [0.03155569, 0.96844431],\n",
       "        [0.02151051, 0.97848949],\n",
       "        [0.02793949, 0.97206051],\n",
       "        [0.02338675, 0.97661325],\n",
       "        [0.03149015, 0.96850985],\n",
       "        [0.02162891, 0.97837109],\n",
       "        [0.02143447, 0.97856553],\n",
       "        [0.02497428, 0.97502572],\n",
       "        [0.02166548, 0.97833452],\n",
       "        [0.02145717, 0.97854283],\n",
       "        [0.02922964, 0.97077036],\n",
       "        [0.02199752, 0.97800248],\n",
       "        [0.03194522, 0.96805478],\n",
       "        [0.02905039, 0.97094961],\n",
       "        [0.02407542, 0.97592458],\n",
       "        [0.03187408, 0.96812592],\n",
       "        [0.02385132, 0.97614868],\n",
       "        [0.02651607, 0.97348393]]),\n",
       " array([[1.00000000e+00, 1.00000000e+00, 8.24197329e-19, 1.00000000e+00,\n",
       "         7.96649012e-10, 1.32599239e-13, 1.00000000e+00, 9.99999998e-01,\n",
       "         1.00000000e+00, 5.13434878e-33, 1.69508126e-09, 7.14208841e-05,\n",
       "         8.22128491e-22, 3.88029286e-01, 1.85150783e-18],\n",
       "        [1.00000000e+00, 1.00000000e+00, 1.64877133e-17, 1.00000000e+00,\n",
       "         3.95655515e-08, 1.47497014e-16, 1.00000000e+00, 9.99999999e-01,\n",
       "         1.00000000e+00, 5.12297233e-32, 1.59369704e-12, 6.16643568e-07,\n",
       "         3.30405379e-22, 9.02046164e-01, 2.06162641e-22],\n",
       "        [1.00000000e+00, 1.00000000e+00, 8.05280453e-19, 1.00000000e+00,\n",
       "         1.63134723e-07, 7.40259211e-17, 1.00000000e+00, 9.99999900e-01,\n",
       "         1.00000000e+00, 9.92124632e-33, 3.29665568e-13, 4.59842328e-07,\n",
       "         3.10738417e-24, 1.06132553e-02, 2.01373977e-22],\n",
       "        [1.00000000e+00, 1.00000000e+00, 3.66209343e-21, 1.00000000e+00,\n",
       "         4.79599093e-11, 8.18002132e-16, 1.00000000e+00, 1.00000000e+00,\n",
       "         1.00000000e+00, 9.76119083e-37, 1.29515630e-11, 3.96687927e-06,\n",
       "         6.75644685e-25, 2.82142443e-02, 2.12173284e-21],\n",
       "        [1.00000000e+00, 1.00000000e+00, 9.86023061e-16, 1.00000000e+00,\n",
       "         1.35007549e-07, 1.22157605e-15, 1.00000000e+00, 9.99999938e-01,\n",
       "         1.00000000e+00, 3.53368798e-30, 4.04042386e-12, 1.28396894e-06,\n",
       "         6.98349526e-21, 9.43963235e-01, 1.85360257e-22],\n",
       "        [1.00000000e+00, 1.00000000e+00, 2.77305840e-16, 1.00000000e+00,\n",
       "         9.14928403e-08, 3.89508307e-18, 1.00000000e+00, 9.99991109e-01,\n",
       "         1.00000000e+00, 5.31376889e-33, 2.21423586e-15, 3.44179682e-08,\n",
       "         7.37822488e-24, 9.85874774e-01, 2.43562072e-30],\n",
       "        [1.00000000e+00, 1.00000000e+00, 1.90584866e-21, 1.00000000e+00,\n",
       "         1.60365289e-08, 1.51050772e-19, 1.00000000e+00, 9.99999638e-01,\n",
       "         1.00000000e+00, 1.48037558e-40, 1.54181607e-18, 9.69117743e-11,\n",
       "         5.19239424e-29, 5.02034612e-03, 5.63606808e-32],\n",
       "        [1.00000000e+00, 1.00000000e+00, 1.43783804e-20, 1.00000000e+00,\n",
       "         9.22053215e-09, 3.72607880e-20, 1.00000000e+00, 9.99999493e-01,\n",
       "         1.00000000e+00, 4.20981184e-39, 3.50846045e-18, 7.08633108e-10,\n",
       "         2.56895763e-28, 4.33513011e-01, 2.79769152e-33],\n",
       "        [1.00000000e+00, 1.00000000e+00, 2.98350648e-19, 1.00000000e+00,\n",
       "         1.97028301e-08, 4.14053934e-14, 1.00000000e+00, 9.99995449e-01,\n",
       "         1.00000000e+00, 2.59111322e-36, 1.02023616e-14, 3.06958183e-07,\n",
       "         1.91757104e-25, 3.54364130e-03, 2.60098613e-25],\n",
       "        [1.00000000e+00, 1.00000000e+00, 7.72150366e-17, 1.00000000e+00,\n",
       "         1.69524781e-06, 1.00002328e-15, 1.00000000e+00, 9.99999199e-01,\n",
       "         1.00000000e+00, 6.85927886e-29, 9.12169573e-12, 8.59298490e-06,\n",
       "         1.56688043e-21, 5.98279506e-02, 2.70318686e-19],\n",
       "        [1.00000000e+00, 1.00000000e+00, 3.49025502e-13, 1.00000000e+00,\n",
       "         1.32281336e-07, 4.17672690e-13, 1.00000000e+00, 9.99999981e-01,\n",
       "         1.00000000e+00, 2.13757440e-23, 9.79811441e-07, 5.67570961e-03,\n",
       "         3.24150681e-16, 9.93193882e-01, 3.18227889e-14],\n",
       "        [1.00000000e+00, 1.00000000e+00, 7.11104554e-20, 1.00000000e+00,\n",
       "         5.03076856e-09, 2.72027778e-12, 1.00000000e+00, 1.00000000e+00,\n",
       "         1.00000000e+00, 2.44663204e-33, 3.24627966e-10, 7.00080129e-05,\n",
       "         5.13091089e-22, 1.00156070e-02, 1.06527101e-14],\n",
       "        [1.00000000e+00, 1.00000000e+00, 4.45025191e-18, 1.00000000e+00,\n",
       "         2.75078111e-09, 2.99279038e-14, 1.00000000e+00, 1.00000000e+00,\n",
       "         1.00000000e+00, 1.17617446e-32, 7.38925629e-11, 9.55098378e-06,\n",
       "         1.32794126e-21, 6.58635019e-01, 2.48559750e-19],\n",
       "        [1.00000000e+00, 1.00000000e+00, 8.55418016e-16, 1.00000000e+00,\n",
       "         4.02667881e-06, 1.27787145e-15, 1.00000000e+00, 9.99991087e-01,\n",
       "         1.00000000e+00, 1.67950786e-30, 6.61543139e-14, 1.67043078e-07,\n",
       "         5.07323434e-22, 2.16657611e-01, 9.41484155e-24],\n",
       "        [1.00000000e+00, 1.00000000e+00, 8.95635741e-16, 1.00000000e+00,\n",
       "         3.92084920e-07, 7.30797743e-18, 1.00000000e+00, 9.99998402e-01,\n",
       "         1.00000000e+00, 1.40405839e-31, 1.57826187e-14, 2.73192077e-08,\n",
       "         1.42844925e-22, 9.57020493e-01, 1.96381696e-27],\n",
       "        [1.00000000e+00, 1.00000000e+00, 4.80253022e-19, 1.00000000e+00,\n",
       "         3.46390454e-08, 5.28527618e-14, 1.00000000e+00, 9.99999999e-01,\n",
       "         1.00000000e+00, 2.64964060e-33, 5.62045473e-12, 3.40930142e-06,\n",
       "         8.63604989e-23, 2.32324893e-02, 1.02002829e-18],\n",
       "        [1.00000000e+00, 1.00000000e+00, 9.79497603e-27, 1.00000000e+00,\n",
       "         2.74584382e-14, 3.78285737e-16, 1.00000000e+00, 1.00000000e+00,\n",
       "         1.00000000e+00, 3.23030005e-47, 1.17649497e-14, 3.32068984e-08,\n",
       "         4.62290042e-30, 8.73403868e-04, 1.67125628e-25],\n",
       "        [1.00000000e+00, 1.00000000e+00, 2.36257137e-20, 1.00000000e+00,\n",
       "         8.78024430e-09, 3.57106558e-20, 1.00000000e+00, 9.99999287e-01,\n",
       "         1.00000000e+00, 2.14080469e-39, 2.20228577e-18, 3.21257026e-10,\n",
       "         1.22341672e-28, 3.79625313e-01, 2.49911472e-34],\n",
       "        [1.00000000e+00, 1.00000000e+00, 3.06690416e-21, 1.00000000e+00,\n",
       "         3.21802799e-11, 5.77562006e-15, 1.00000000e+00, 1.00000000e+00,\n",
       "         1.00000000e+00, 4.14174570e-36, 1.22211001e-10, 2.34685354e-05,\n",
       "         3.94168423e-24, 2.75212665e-02, 4.08854037e-19],\n",
       "        [1.00000000e+00, 1.00000000e+00, 1.64038546e-20, 1.00000000e+00,\n",
       "         2.78898421e-09, 2.13127355e-14, 1.00000000e+00, 9.99999995e-01,\n",
       "         1.00000000e+00, 7.71848266e-37, 2.15887413e-13, 4.73656965e-07,\n",
       "         8.21876214e-25, 3.49404809e-03, 1.14658374e-21],\n",
       "        [1.00000000e+00, 1.00000000e+00, 1.59135089e-16, 1.00000000e+00,\n",
       "         3.05526498e-07, 3.44028368e-20, 1.00000000e+00, 9.99948175e-01,\n",
       "         1.00000000e+00, 2.03590478e-32, 1.42100717e-15, 6.13043094e-09,\n",
       "         1.69395998e-24, 7.70809731e-01, 1.51225812e-30],\n",
       "        [1.00000000e+00, 1.00000000e+00, 1.78724081e-18, 1.00000000e+00,\n",
       "         1.61906134e-07, 1.30017811e-14, 1.00000000e+00, 9.99999997e-01,\n",
       "         1.00000000e+00, 4.27377861e-32, 3.23712658e-12, 3.22740910e-06,\n",
       "         2.78652212e-22, 6.50487625e-02, 8.96688086e-19],\n",
       "        [1.00000000e+00, 1.00000000e+00, 1.08982216e-15, 1.00000000e+00,\n",
       "         4.95760259e-08, 2.36549228e-17, 1.00000000e+00, 9.99999872e-01,\n",
       "         1.00000000e+00, 2.47005444e-31, 2.92569312e-13, 1.40757685e-07,\n",
       "         9.55169712e-22, 9.92897741e-01, 3.81574297e-26],\n",
       "        [1.00000000e+00, 1.00000000e+00, 1.20260674e-16, 1.00000000e+00,\n",
       "         1.22261147e-07, 3.44786327e-18, 1.00000000e+00, 9.99997804e-01,\n",
       "         1.00000000e+00, 6.01786882e-31, 2.85812112e-13, 3.43594861e-07,\n",
       "         9.48916625e-23, 7.55723832e-01, 2.53173680e-25],\n",
       "        [1.00000000e+00, 1.00000000e+00, 5.42677948e-16, 1.00000000e+00,\n",
       "         3.30842926e-06, 1.94251173e-14, 1.00000000e+00, 9.99999822e-01,\n",
       "         1.00000000e+00, 6.12630541e-29, 5.20280618e-12, 3.99085259e-06,\n",
       "         1.35806104e-20, 2.88683256e-01, 3.47828301e-19],\n",
       "        [1.00000000e+00, 1.00000000e+00, 9.30579604e-17, 1.00000000e+00,\n",
       "         4.08003300e-07, 3.63641776e-23, 1.00000000e+00, 9.99988487e-01,\n",
       "         1.00000000e+00, 5.48298653e-33, 5.13017587e-17, 3.70071445e-10,\n",
       "         1.56396113e-25, 9.87264693e-01, 4.22128351e-34],\n",
       "        [1.00000000e+00, 1.00000000e+00, 3.48430864e-22, 1.00000000e+00,\n",
       "         4.95205952e-10, 4.89345658e-18, 1.00000000e+00, 9.99999991e-01,\n",
       "         1.00000000e+00, 3.46696058e-35, 7.78112787e-13, 3.52707869e-05,\n",
       "         1.15727349e-23, 2.65668760e-01, 6.24263270e-19],\n",
       "        [1.00000000e+00, 1.00000000e+00, 7.03110302e-19, 1.00000000e+00,\n",
       "         1.73666380e-09, 1.28198653e-15, 1.00000000e+00, 9.99999999e-01,\n",
       "         1.00000000e+00, 1.02181576e-34, 1.74941651e-12, 7.12157595e-07,\n",
       "         2.78630445e-23, 5.28469555e-01, 1.46524092e-22]]))"
      ]
     },
     "execution_count": 563,
     "metadata": {},
     "output_type": "execute_result"
    }
   ],
   "source": [
    "forward_prop(X_test,wi_1,bi_1,wi_2,bi_2)"
   ]
  },
  {
   "cell_type": "code",
   "execution_count": 564,
   "metadata": {},
   "outputs": [],
   "source": [
    "def diff_wi_2(H,Z,Y):\n",
    "    return H.T.dot(Z-Y)\n",
    "\n",
    "def diff_wi_1(X,H,Z,output,wi_2):\n",
    "    dz = (Z-output).dot(wi_2.T)*H*(1-H)\n",
    "    return X.T.dot(dz)"
   ]
  },
  {
   "cell_type": "code",
   "execution_count": 565,
   "metadata": {},
   "outputs": [],
   "source": [
    "def diff_B2(Z,Y):\n",
    "    return (Z-Y).sum(axis=0)\n",
    "\n",
    "def diff_B1(Z,Y,wi_2,H):\n",
    "    return ((Z-Y).dot(wi_2.T)*H*(1-H)).sum(axis=0)"
   ]
  },
  {
   "cell_type": "code",
   "execution_count": 566,
   "metadata": {},
   "outputs": [],
   "source": [
    "learning_rate = 1e-4\n",
    "for epoch in range(10000):\n",
    "    output,hidden = forward_prop(X_train,wi_1,bi_1,wi_2,bi_2)\n",
    "    wi_2+=learning_rate*diff_wi_2(hidden,Z,output)\n",
    "    bi_2+=learning_rate*diff_B2(Z,output)\n",
    "    wi_1+=learning_rate*diff_wi_1(X_train,hidden,Z,output,wi_2).T\n",
    "    bi_1+=learning_rate*diff_B1(Z,output,wi_2,hidden)\n",
    "    "
   ]
  },
  {
   "cell_type": "code",
   "execution_count": 569,
   "metadata": {},
   "outputs": [
    {
     "data": {
      "text/plain": [
       "array([0.23880313, 0.76119687])"
      ]
     },
     "execution_count": 569,
     "metadata": {},
     "output_type": "execute_result"
    }
   ],
   "source": [
    "data = df.copy()\n",
    "data = np.array(data)\n",
    "xtest = data[38][:9]\n",
    "xtest\n",
    "hidden_output = 1/(1+np.exp(-(xtest.dot(wi_1.T))-bi_1))\n",
    "output_layer_output = hidden_output.dot(wi_2)+bi_2 \n",
    "expA = np.exp(output_layer_output)\n",
    "Y = expA/expA.sum()\n",
    "Y\n",
    "#print(\"Probability of class 0>>>{}\\n Probability of class 1>>>{} \".format(Y[0],Y[1]))"
   ]
  },
  {
   "cell_type": "code",
   "execution_count": null,
   "metadata": {},
   "outputs": [],
   "source": []
  },
  {
   "cell_type": "code",
   "execution_count": null,
   "metadata": {},
   "outputs": [],
   "source": []
  },
  {
   "cell_type": "code",
   "execution_count": null,
   "metadata": {},
   "outputs": [],
   "source": []
  }
 ],
 "metadata": {
  "kernelspec": {
   "display_name": "Python 3",
   "language": "python",
   "name": "python3"
  },
  "language_info": {
   "codemirror_mode": {
    "name": "ipython",
    "version": 3
   },
   "file_extension": ".py",
   "mimetype": "text/x-python",
   "name": "python",
   "nbconvert_exporter": "python",
   "pygments_lexer": "ipython3",
   "version": "3.7.3"
  }
 },
 "nbformat": 4,
 "nbformat_minor": 2
}
